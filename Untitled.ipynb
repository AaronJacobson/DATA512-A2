{
 "cells": [
  {
   "cell_type": "code",
   "execution_count": 4,
   "id": "postal-level",
   "metadata": {},
   "outputs": [],
   "source": [
    "import csv\n",
    "import pandas"
   ]
  },
  {
   "cell_type": "code",
   "execution_count": 5,
   "id": "greatest-screw",
   "metadata": {},
   "outputs": [],
   "source": [
    "src_dir = \"C:\\\\Users\\\\AaronJacobsonDesk3\\\\Documents\\\\UWMSDS\\\\Classes\\\\Fall2021\\\\DATA512\\\\DATA512\\\\DATA512\\\\A2\\\\\""
   ]
  },
  {
   "cell_type": "code",
   "execution_count": 10,
   "id": "compact-lewis",
   "metadata": {},
   "outputs": [
    {
     "data": {
      "text/html": [
       "<div>\n",
       "<style scoped>\n",
       "    .dataframe tbody tr th:only-of-type {\n",
       "        vertical-align: middle;\n",
       "    }\n",
       "\n",
       "    .dataframe tbody tr th {\n",
       "        vertical-align: top;\n",
       "    }\n",
       "\n",
       "    .dataframe thead th {\n",
       "        text-align: right;\n",
       "    }\n",
       "</style>\n",
       "<table border=\"1\" class=\"dataframe\">\n",
       "  <thead>\n",
       "    <tr style=\"text-align: right;\">\n",
       "      <th></th>\n",
       "      <th>page</th>\n",
       "      <th>country</th>\n",
       "      <th>rev_id</th>\n",
       "    </tr>\n",
       "  </thead>\n",
       "  <tbody>\n",
       "    <tr>\n",
       "      <th>1</th>\n",
       "      <td>Bir I of Kanem</td>\n",
       "      <td>Chad</td>\n",
       "      <td>355319463</td>\n",
       "    </tr>\n",
       "    <tr>\n",
       "      <th>10</th>\n",
       "      <td>Information Minister of the Palestinian Nation...</td>\n",
       "      <td>Palestinian Territory</td>\n",
       "      <td>393276188</td>\n",
       "    </tr>\n",
       "    <tr>\n",
       "      <th>12</th>\n",
       "      <td>Yos Por</td>\n",
       "      <td>Cambodia</td>\n",
       "      <td>393822005</td>\n",
       "    </tr>\n",
       "    <tr>\n",
       "      <th>23</th>\n",
       "      <td>Julius Gregr</td>\n",
       "      <td>Czech Republic</td>\n",
       "      <td>395521877</td>\n",
       "    </tr>\n",
       "    <tr>\n",
       "      <th>24</th>\n",
       "      <td>Edvard Gregr</td>\n",
       "      <td>Czech Republic</td>\n",
       "      <td>395526568</td>\n",
       "    </tr>\n",
       "    <tr>\n",
       "      <th>...</th>\n",
       "      <td>...</td>\n",
       "      <td>...</td>\n",
       "      <td>...</td>\n",
       "    </tr>\n",
       "    <tr>\n",
       "      <th>47192</th>\n",
       "      <td>Yahya Jammeh</td>\n",
       "      <td>Gambia</td>\n",
       "      <td>807482007</td>\n",
       "    </tr>\n",
       "    <tr>\n",
       "      <th>47193</th>\n",
       "      <td>Lucius Fairchild</td>\n",
       "      <td>United States</td>\n",
       "      <td>807483006</td>\n",
       "    </tr>\n",
       "    <tr>\n",
       "      <th>47194</th>\n",
       "      <td>Fahd of Saudi Arabia</td>\n",
       "      <td>Saudi Arabia</td>\n",
       "      <td>807483153</td>\n",
       "    </tr>\n",
       "    <tr>\n",
       "      <th>47195</th>\n",
       "      <td>Francis Fessenden</td>\n",
       "      <td>United States</td>\n",
       "      <td>807483270</td>\n",
       "    </tr>\n",
       "    <tr>\n",
       "      <th>47196</th>\n",
       "      <td>Ajay Kannoujiya</td>\n",
       "      <td>India</td>\n",
       "      <td>807484325</td>\n",
       "    </tr>\n",
       "  </tbody>\n",
       "</table>\n",
       "<p>46701 rows × 3 columns</p>\n",
       "</div>"
      ],
      "text/plain": [
       "                                                    page  \\\n",
       "1                                         Bir I of Kanem   \n",
       "10     Information Minister of the Palestinian Nation...   \n",
       "12                                               Yos Por   \n",
       "23                                          Julius Gregr   \n",
       "24                                          Edvard Gregr   \n",
       "...                                                  ...   \n",
       "47192                                       Yahya Jammeh   \n",
       "47193                                   Lucius Fairchild   \n",
       "47194                               Fahd of Saudi Arabia   \n",
       "47195                                  Francis Fessenden   \n",
       "47196                                    Ajay Kannoujiya   \n",
       "\n",
       "                     country     rev_id  \n",
       "1                       Chad  355319463  \n",
       "10     Palestinian Territory  393276188  \n",
       "12                  Cambodia  393822005  \n",
       "23            Czech Republic  395521877  \n",
       "24            Czech Republic  395526568  \n",
       "...                      ...        ...  \n",
       "47192                 Gambia  807482007  \n",
       "47193          United States  807483006  \n",
       "47194           Saudi Arabia  807483153  \n",
       "47195          United States  807483270  \n",
       "47196                  India  807484325  \n",
       "\n",
       "[46701 rows x 3 columns]"
      ]
     },
     "execution_count": 10,
     "metadata": {},
     "output_type": "execute_result"
    }
   ],
   "source": [
    "df_page = pandas.read_csv(src_dir + \"page_data.csv\")\n",
    "df_page = df_page[~df_page['page'].str.startswith(\"Template:\")]\n",
    "df_page"
   ]
  },
  {
   "cell_type": "code",
   "execution_count": 24,
   "id": "effective-showcase",
   "metadata": {},
   "outputs": [],
   "source": [
    "df_country = pandas.read_csv(src_dir + \"WPDS_2020_data - WPDS_2020_data.csv\")\n",
    "df_region = df_country[df_country['Type'] != \"Country\"]\n",
    "df_country = df_country[df_country['Type'] == \"Country\"]"
   ]
  },
  {
   "cell_type": "code",
   "execution_count": null,
   "id": "hairy-prevention",
   "metadata": {},
   "outputs": [],
   "source": []
  },
  {
   "cell_type": "code",
   "execution_count": null,
   "id": "standing-biodiversity",
   "metadata": {},
   "outputs": [],
   "source": []
  },
  {
   "cell_type": "code",
   "execution_count": null,
   "id": "another-arrest",
   "metadata": {},
   "outputs": [],
   "source": []
  }
 ],
 "metadata": {
  "kernelspec": {
   "display_name": "Python 3",
   "language": "python",
   "name": "python3"
  },
  "language_info": {
   "codemirror_mode": {
    "name": "ipython",
    "version": 3
   },
   "file_extension": ".py",
   "mimetype": "text/x-python",
   "name": "python",
   "nbconvert_exporter": "python",
   "pygments_lexer": "ipython3",
   "version": "3.8.8"
  }
 },
 "nbformat": 4,
 "nbformat_minor": 5
}
